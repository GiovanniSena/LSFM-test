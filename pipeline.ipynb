{
 "cells": [
  {
   "cell_type": "markdown",
   "metadata": {},
   "source": [
    "# Basic usage - load folder context and use the default pipeline"
   ]
  },
  {
   "cell_type": "code",
   "execution_count": null,
   "metadata": {},
   "outputs": [],
   "source": [
    "%matplotlib inline\n",
    "from lightroot.detection import preprocessing\n",
    "from lightroot.context import context\n",
    "c = context.folder_context(\"C:/Users/mrsir/Box Sync/CYCB-GFP/cut/April 4 (cut run 192)\",77,81)\n",
    "c[\"show_progress\"] = False\n",
    "#c[\"transforms\"] = False\n",
    "#c.run()\n",
    "#c._iom.try_make_video()\n",
    "#replot some frames using the data and re-make video e.g. remove annoying vector artifact"
   ]
  },
  {
   "cell_type": "markdown",
   "metadata": {},
   "source": [
    "# Run the tracker only\n",
    "There is usually a data.csv or data.csv.cpt file to use in the cache. "
   ]
  },
  {
   "cell_type": "code",
   "execution_count": 4,
   "metadata": {},
   "outputs": [
    {
     "name": "stderr",
     "output_type": "stream",
     "text": [
      "100%|████████████████████████████████████████████████████████████████████████████████████| 6/6 [00:11<00:00,  1.85s/it]\n"
     ]
    }
   ],
   "source": [
    "from lightroot.tracking import tpctree\n",
    "from lightroot import plots\n",
    "import pandas as pd\n",
    "from matplotlib import pyplot as plt\n",
    "import numpy as np\n",
    "import pandas as pd\n",
    "import math\n",
    "%matplotlib inline\n",
    "result = tpctree.process_file(\"./cached_datax/data.csv\",\n",
    "                              start=0,end=5,\n",
    "                              options={\"transforms\":True, \n",
    "                                       \"epsilon\":17, })"
   ]
  },
  {
   "cell_type": "code",
   "execution_count": null,
   "metadata": {
    "collapsed": true
   },
   "outputs": [],
   "source": [
    "result.data.head()"
   ]
  },
  {
   "cell_type": "markdown",
   "metadata": {},
   "source": [
    "# Pipelines\n",
    "The run method can take a collection of \"pipe\" functions to build more flexible pipelines. Image processing can be a nuisance and this architecture is supposed to help.\n",
    "\n",
    "The idea is that the \"pipe\" function signature is consitently "
   ]
  },
  {
   "cell_type": "code",
   "execution_count": null,
   "metadata": {
    "collapsed": true
   },
   "outputs": [],
   "source": [
    "def pipe(image, context, properties):\n",
    "    #do something to the image\n",
    "    return image"
   ]
  },
  {
   "cell_type": "markdown",
   "metadata": {},
   "source": [
    "If every pipeline function has this sig, they can all be unit tested and chained together by the context manager. They should not all trip over each other re-computing things but share resources.\n",
    "\n",
    "The context stores global image properties that can be determined up front. See inside context where the analysis.set_frame_statistics is called. \n",
    "\n",
    "This could be extended to add more frame metrics that are \"read-only\" with respect to the frame. The empty pipeline is passed in the example below and this will simply read frames, analyse frames and save them to the output dir without any processing or modification"
   ]
  },
  {
   "cell_type": "code",
   "execution_count": null,
   "metadata": {
    "collapsed": true
   },
   "outputs": [],
   "source": [
    "#the empty pipeline simply analyses images\n",
    "c.run([])"
   ]
  },
  {
   "cell_type": "markdown",
   "metadata": {},
   "source": [
    "Custom pipelines can transform images from one state to another. If no argument is passed to the run method, the default pipeline tries to build the point cloud from the data and track individuals"
   ]
  },
  {
   "cell_type": "code",
   "execution_count": null,
   "metadata": {
    "collapsed": true
   },
   "outputs": [],
   "source": []
  }
 ],
 "metadata": {
  "kernelspec": {
   "display_name": "Python 3",
   "language": "python",
   "name": "python3"
  },
  "language_info": {
   "codemirror_mode": {
    "name": "ipython",
    "version": 3
   },
   "file_extension": ".py",
   "mimetype": "text/x-python",
   "name": "python",
   "nbconvert_exporter": "python",
   "pygments_lexer": "ipython3",
   "version": "3.6.3"
  }
 },
 "nbformat": 4,
 "nbformat_minor": 2
}
