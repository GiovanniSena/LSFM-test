{
 "cells": [
  {
   "cell_type": "markdown",
   "metadata": {},
   "source": [
    "# Basic usage - load folder context and use the default pipeline"
   ]
  },
  {
   "cell_type": "code",
   "execution_count": 1,
   "metadata": {},
   "outputs": [
    {
     "name": "stdout",
     "output_type": "stream",
     "text": [
      "The directory ./cached_datax should be empty. Do you want to clear it? (y/n)\n",
      "17/07/2018 21:03:58 INFO:Setting a default value noise_trange:[0.01, 0.045]\n",
      "17/07/2018 21:03:58 INFO:Setting a default value max_files:10000\n",
      "17/07/2018 21:03:58 INFO:Setting a default value max_file_gap:100\n",
      "17/07/2018 21:03:58 INFO:Setting a default value stack_file_format:C:/Users/mrsir/Box Sync/CYCB-GFP/cut/April 4 (cut run 192)\\Run0192_tp{:0>3}.tif\n",
      "17/07/2018 21:03:58 INFO:Data dir is set to C:/Users/mrsir/Box Sync/CYCB-GFP/cut/April 4 (cut run 192)\n",
      "17/07/2018 21:03:58 INFO:Output dir is set to ./cached_datax\n",
      "17/07/2018 21:03:58 INFO:Total_files:973\n",
      "17/07/2018 21:03:58 INFO:Total_tiff_files:973\n",
      "17/07/2018 21:03:58 INFO:Max_good_index:484\n",
      "17/07/2018 21:03:58 INFO:First_good_index:0\n",
      "17/07/2018 21:03:58 INFO:Frame_gaps:{}\n"
     ]
    }
   ],
   "source": [
    "%matplotlib inline\n",
    "from lightroot.detection import preprocessing\n",
    "from lightroot.context import context\n",
    "c = context.folder_context(\"C:/Users/mrsir/Box Sync/CYCB-GFP/cut/April 4 (cut run 192)\",0,20)\n",
    "c.run()"
   ]
  },
  {
   "cell_type": "markdown",
   "metadata": {},
   "source": [
    "# Pipelines\n",
    "The run method can take a collection of \"pipe\" functions to build more flexible pipelines. Image processing can be a nuisance and this architecture is supposed to help.\n",
    "\n",
    "The idea is that the \"pipe\" function signature is consitently "
   ]
  },
  {
   "cell_type": "code",
   "execution_count": null,
   "metadata": {
    "collapsed": true
   },
   "outputs": [],
   "source": [
    "def pipe(image, context, properties):\n",
    "    #do something to the image\n",
    "    return image"
   ]
  },
  {
   "cell_type": "markdown",
   "metadata": {},
   "source": [
    "If every pipeline function has this sig, they can all be unit tested and chained together by the context manager. They should not all trip over each other re-computing things but share resources.\n",
    "\n",
    "The context stores global image properties that can be determined up front. See inside context where the analysis.set_frame_statistics is called. \n",
    "\n",
    "This could be extended to add more frame metrics that are \"read-only\" with respect to the frame. The empty pipeline is passed in the example below and this will simply read frames, analyse frames and save them to the output dir without any processing or modification"
   ]
  },
  {
   "cell_type": "code",
   "execution_count": null,
   "metadata": {
    "collapsed": true
   },
   "outputs": [],
   "source": [
    "#the empty pipeline simply analyses images\n",
    "c.run([])"
   ]
  },
  {
   "cell_type": "markdown",
   "metadata": {},
   "source": [
    "Custom pipelines can transform images from one state to another. If no argument is passed to the run method, the default pipeline tries to build the point cloud from the data and track individuals"
   ]
  },
  {
   "cell_type": "code",
   "execution_count": null,
   "metadata": {
    "collapsed": true
   },
   "outputs": [],
   "source": []
  }
 ],
 "metadata": {
  "kernelspec": {
   "display_name": "Python 3",
   "language": "python",
   "name": "python3"
  },
  "language_info": {
   "codemirror_mode": {
    "name": "ipython",
    "version": 3
   },
   "file_extension": ".py",
   "mimetype": "text/x-python",
   "name": "python",
   "nbconvert_exporter": "python",
   "pygments_lexer": "ipython3",
   "version": "3.6.3"
  }
 },
 "nbformat": 4,
 "nbformat_minor": 2
}
