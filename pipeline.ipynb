{
 "cells": [
  {
   "cell_type": "markdown",
   "metadata": {},
   "source": [
    "# Basic usage - load folder context and use the default pipeline"
   ]
  },
  {
   "cell_type": "code",
   "execution_count": 2,
   "metadata": {},
   "outputs": [
    {
     "name": "stdout",
     "output_type": "stream",
     "text": [
      "The directory ./cached_datax should be empty. Do you want to clear it? (y/n)y\n",
      "23/07/2018 06:14:08 INFO:Setting a default value noise_trange:[0.01, 0.045]\n",
      "23/07/2018 06:14:08 INFO:Setting a default value max_files:10000\n",
      "23/07/2018 06:14:08 INFO:Setting a default value max_file_gap:100\n",
      "23/07/2018 06:14:08 INFO:Setting a default value stack_file_format:C:/Users/mrsir/Box Sync/CYCB-GFP/cut/April 4 (cut run 192)\\Run0192_tp{:0>3}.tif\n",
      "23/07/2018 06:14:08 INFO:Data dir is set to C:/Users/mrsir/Box Sync/CYCB-GFP/cut/April 4 (cut run 192)\n",
      "23/07/2018 06:14:08 INFO:Output dir is set to ./cached_datax\n",
      "23/07/2018 06:14:08 INFO:Total_files:973\n",
      "23/07/2018 06:14:08 INFO:Total_tiff_files:973\n",
      "23/07/2018 06:14:08 INFO:Max_good_index:484\n",
      "23/07/2018 06:14:08 INFO:First_good_index:0\n",
      "23/07/2018 06:14:08 INFO:Frame_gaps:{}\n",
      "23/07/2018 06:14:08 INFO:***********BEGIN PROCESSING LOOP***********\n",
      "23/07/2018 06:14:08 INFO:loading settings file ./settings.json\n",
      "23/07/2018 06:14:18 INFO(77):running stage denoise\n",
      "23/07/2018 06:14:18 INFO(77):estimated noise standard deviation of 0.0524 exceeds [*,0.045]. Thresholding @ 99 percentile 0.217 before denoise...\n",
      "23/07/2018 06:14:31 INFO(77):running stage select_filtered_by_2d_lowband_largest_component\n",
      "23/07/2018 06:14:31 INFO(77):running stage smoothing\n",
      "23/07/2018 06:14:34 INFO(77):setting the clipped region adaptive threshold to 0.03 based on maximum label perimeters\n",
      "23/07/2018 06:14:35 INFO(77):running stage pinpoint\n",
      "23/07/2018 06:14:58 INFO(77):saving file ./cached_datax\\data.csv.cpt\n",
      "23/07/2018 06:15:08 INFO(78):running stage denoise\n",
      "23/07/2018 06:15:08 INFO(78):estimated pseudo entropy 0.0830 less than 0.2. Thresholding @ 99 percentile 0.141 before denoise...\n",
      "23/07/2018 06:15:21 INFO(78):running stage select_filtered_by_2d_lowband_largest_component\n",
      "23/07/2018 06:15:21 INFO(78):running stage smoothing\n",
      "23/07/2018 06:15:24 INFO(78):setting the clipped region adaptive threshold to 0.02 based on maximum label perimeters\n",
      "23/07/2018 06:15:25 INFO(78):running stage pinpoint\n",
      "23/07/2018 06:15:53 INFO(78):saving file ./cached_datax\\data.csv.cpt\n",
      "23/07/2018 06:16:03 INFO(79):running stage denoise\n",
      "23/07/2018 06:16:03 INFO(79):estimated noise standard deviation of 0.0713 exceeds [*,0.045]. Thresholding @ 99 percentile 0.297 before denoise...\n",
      "23/07/2018 06:16:16 INFO(79):running stage select_filtered_by_2d_lowband_largest_component\n",
      "23/07/2018 06:16:16 INFO(79):running stage smoothing\n",
      "23/07/2018 06:16:21 INFO(79):setting the clipped region adaptive threshold to 0.04 based on maximum label perimeters\n",
      "23/07/2018 06:16:21 INFO(79):running stage pinpoint\n",
      "23/07/2018 06:16:44 INFO(79):saving file ./cached_datax\\data.csv.cpt\n",
      "23/07/2018 06:16:54 INFO(80):running stage denoise\n",
      "23/07/2018 06:16:54 INFO(80):estimated pseudo entropy 0.0760 less than 0.2. Thresholding @ 99 percentile 0.183 before denoise...\n",
      "23/07/2018 06:17:07 INFO(80):running stage select_filtered_by_2d_lowband_largest_component\n",
      "23/07/2018 06:17:07 INFO(80):running stage smoothing\n",
      "23/07/2018 06:17:10 INFO(80):setting the clipped region adaptive threshold to 0.02 based on maximum label perimeters\n",
      "23/07/2018 06:17:12 INFO(80):running stage pinpoint\n",
      "23/07/2018 06:17:41 INFO(80):saving file ./cached_datax\\data.csv.cpt\n",
      "23/07/2018 06:17:51 INFO(81):running stage denoise\n",
      "23/07/2018 06:17:51 INFO(81):estimated noise standard deviation of 0.0935 exceeds 0.085. Thresholding aggressively, smoothing and skipping denoise!\n",
      "23/07/2018 06:17:52 INFO(81):running stage smoothing\n",
      "23/07/2018 06:17:56 INFO(81):running stage select_filtered_by_2d_lowband_largest_component\n",
      "23/07/2018 06:17:56 INFO(81):running stage smoothing\n",
      "23/07/2018 06:18:27 INFO(81):setting the clipped region adaptive threshold to 0.05 based on maximum label perimeters\n",
      "23/07/2018 06:18:33 INFO(81):running stage pinpoint\n",
      "23/07/2018 06:19:11 INFO(81):saving file ./cached_datax\\data.csv.cpt\n",
      "23/07/2018 06:19:11 INFO(81):saving file ./cached_datax\\data.csv\n",
      "23/07/2018 06:19:11 INFO(81):saving file ./cached_datax\\life_matrix.csv\n",
      "23/07/2018 06:19:11 INFO(81):saving file ./cached_datax\\life_matrix_restricted.csv\n",
      "23/07/2018 06:19:11 INFO(81):saving file ./cached_datax\\frame_statistics.csv\n",
      "23/07/2018 06:19:11 INFO(81):removing check point file ./cached_datax\\data.csv.cpt\n",
      "Done!\n"
     ]
    }
   ],
   "source": [
    "%matplotlib inline\n",
    "from lightroot.detection import preprocessing\n",
    "from lightroot.context import context\n",
    "c = context.folder_context(\"C:/Users/mrsir/Box Sync/CYCB-GFP/cut/April 4 (cut run 192)\",77,81)\n",
    "c[\"show_progress\"] = False\n",
    "#c[\"transforms\"] = False\n",
    "c.run()\n",
    "#c._iom.try_make_video()\n",
    "#replot some frames using the data and re-make video e.g. remove annoying vector artifact"
   ]
  },
  {
   "cell_type": "markdown",
   "metadata": {},
   "source": [
    "# Run the tracker only\n",
    "There is usually a data.csv or data.csv.cpt file to use in the cache. "
   ]
  },
  {
   "cell_type": "code",
   "execution_count": 3,
   "metadata": {},
   "outputs": [
    {
     "name": "stderr",
     "output_type": "stream",
     "text": [
      "100%|████████████████████████████████████████████████████████████████████████████████████| 5/5 [00:00<00:00, 10.17it/s]\n"
     ]
    }
   ],
   "source": [
    "from lightroot.tracking import tpctree\n",
    "from lightroot import plots\n",
    "import pandas as pd\n",
    "from matplotlib import pyplot as plt\n",
    "import numpy as np\n",
    "import pandas as pd\n",
    "import math\n",
    "%matplotlib inline\n",
    "result = tpctree.process_file(\"./cached_datax/data.csv\",start=0,end=5,options={\"transforms\":True, \"epsilon\":18, \"use_tr_concensus\": True})\n",
    "#plot the result and the angles etc.\n",
    "#should try to plot the proposal transforms somewhere like a rose plot with a score - a scatter plot centered at 0 could do this\n",
    "#then we should check the center of gravity of the giant cluster and check its score - how often is this better than the others\n",
    "#using the translations, how often can we improve the score with the transformations - also plot their scatter plot"
   ]
  },
  {
   "cell_type": "code",
   "execution_count": 4,
   "metadata": {},
   "outputs": [
    {
     "data": {
      "text/html": [
       "<div>\n",
       "<style>\n",
       "    .dataframe thead tr:only-child th {\n",
       "        text-align: right;\n",
       "    }\n",
       "\n",
       "    .dataframe thead th {\n",
       "        text-align: left;\n",
       "    }\n",
       "\n",
       "    .dataframe tbody tr th {\n",
       "        vertical-align: top;\n",
       "    }\n",
       "</style>\n",
       "<table border=\"1\" class=\"dataframe\">\n",
       "  <thead>\n",
       "    <tr style=\"text-align: right;\">\n",
       "      <th></th>\n",
       "      <th>best_tr_angle</th>\n",
       "      <th>best_tr_disp</th>\n",
       "      <th>best_tr_score</th>\n",
       "      <th>best_tr_type</th>\n",
       "      <th>detections_ratio</th>\n",
       "      <th>marriage_angles</th>\n",
       "    </tr>\n",
       "  </thead>\n",
       "  <tbody>\n",
       "    <tr>\n",
       "      <th>0</th>\n",
       "      <td>-0.000</td>\n",
       "      <td>[1.0, 0.0, 0.0]</td>\n",
       "      <td>1.50</td>\n",
       "      <td>random_tr</td>\n",
       "      <td>[2, 2]</td>\n",
       "      <td>[{'key': 0, 'angle': -0.0}, {'key': 3, 'angle'...</td>\n",
       "    </tr>\n",
       "    <tr>\n",
       "      <th>1</th>\n",
       "      <td>123.855</td>\n",
       "      <td>[-3.0, -4.0, 2.0]</td>\n",
       "      <td>14.25</td>\n",
       "      <td>random_tr</td>\n",
       "      <td>[1, 4]</td>\n",
       "      <td>[{'key': 4, 'angle': nan}, {'key': 5, 'angle':...</td>\n",
       "    </tr>\n",
       "    <tr>\n",
       "      <th>2</th>\n",
       "      <td>-90.000</td>\n",
       "      <td>[0.0, 4.0, 0.0]</td>\n",
       "      <td>0.00</td>\n",
       "      <td>random_tr</td>\n",
       "      <td>[1, 1]</td>\n",
       "      <td>[{'key': 5, 'angle': -90.0}]</td>\n",
       "    </tr>\n",
       "    <tr>\n",
       "      <th>3</th>\n",
       "      <td>-90.000</td>\n",
       "      <td>[0.0, 4.0, 1.0]</td>\n",
       "      <td>14.25</td>\n",
       "      <td>random_tr</td>\n",
       "      <td>[1, 4]</td>\n",
       "      <td>[{'key': 7, 'angle': nan}, {'key': 5, 'angle':...</td>\n",
       "    </tr>\n",
       "  </tbody>\n",
       "</table>\n",
       "</div>"
      ],
      "text/plain": [
       "   best_tr_angle       best_tr_disp  best_tr_score best_tr_type  \\\n",
       "0         -0.000    [1.0, 0.0, 0.0]           1.50    random_tr   \n",
       "1        123.855  [-3.0, -4.0, 2.0]          14.25    random_tr   \n",
       "2        -90.000    [0.0, 4.0, 0.0]           0.00    random_tr   \n",
       "3        -90.000    [0.0, 4.0, 1.0]          14.25    random_tr   \n",
       "\n",
       "  detections_ratio                                    marriage_angles  \n",
       "0           [2, 2]  [{'key': 0, 'angle': -0.0}, {'key': 3, 'angle'...  \n",
       "1           [1, 4]  [{'key': 4, 'angle': nan}, {'key': 5, 'angle':...  \n",
       "2           [1, 1]                       [{'key': 5, 'angle': -90.0}]  \n",
       "3           [1, 4]  [{'key': 7, 'angle': nan}, {'key': 5, 'angle':...  "
      ]
     },
     "execution_count": 4,
     "metadata": {},
     "output_type": "execute_result"
    }
   ],
   "source": [
    "result.stats#.groupby(\"best_tr_type\").count()"
   ]
  },
  {
   "cell_type": "code",
   "execution_count": null,
   "metadata": {},
   "outputs": [],
   "source": [
    "# result = tpctree.process_file(\"./cached_datax/data.csv\",start=0,end=50,options={\"transforms\":False, \"epsilon\":18, \"use_tr_concensus\": True})\n",
    "# withconc = pd.DataFrame([result.stats[k] for k in result.stats.keys()])\n",
    "# #withconc[\"best_tr\"].plot()\n",
    "# result = tpctree.process_file(\"./cached_datax/data.csv\",start=0,end=50,options={\"transforms\":False, \"epsilon\":18, \"use_tr_concensus\": False})\n",
    "# without = pd.DataFrame([result.stats[k] for k in result.stats.keys()])\n",
    "# joined = without.join(withconc,rsuffix=\"with\")[[\"best_tr\", \"best_trwith\"]]#[0:10].plot()\n",
    "# joined[\"diff\"] = joined[\"best_tr\"]- joined[\"best_trwith\"]\n",
    "# joined[\"diff\"].plot()"
   ]
  },
  {
   "cell_type": "code",
   "execution_count": null,
   "metadata": {},
   "outputs": [],
   "source": [
    "result.stats.iloc[0]"
   ]
  },
  {
   "cell_type": "code",
   "execution_count": null,
   "metadata": {},
   "outputs": [],
   "source": [
    "result.plot_transition(t=1,transform_seed=None)"
   ]
  },
  {
   "cell_type": "code",
   "execution_count": null,
   "metadata": {},
   "outputs": [],
   "source": [
    "result.plot_transition(t=0,transform_seed=np.array([[10],[9]]))"
   ]
  },
  {
   "cell_type": "code",
   "execution_count": null,
   "metadata": {},
   "outputs": [],
   "source": [
    "eps = 18\n",
    "marriages = np.array([[10,9], [11,10], [0,0],[1,1], [12,11], [9,8], [7,7],[5,4],[4,5],[3,3],[6,6],[2,2]])\n",
    "scores = tpctree.translations_from_marriages(result[0],result[1],mar=marriages,name=\"handpicked\")\n",
    "scores.head()"
   ]
  },
  {
   "cell_type": "code",
   "execution_count": null,
   "metadata": {},
   "outputs": [],
   "source": [
    "crowd_tr, score = tpctree.concensus_best_from_scores(result[0],result[1], scores, eps=eps)\n",
    "rand_scores = tpctree.translations_from_marriages(result[0],result[1],name=\"random\")\n",
    "scores = pd.concat([scores,rand_scores])\n",
    "#pass in a plot and flip the y\n",
    "plots.plot_proposal(result[0],result[1],crowd_tr)"
   ]
  },
  {
   "cell_type": "code",
   "execution_count": null,
   "metadata": {},
   "outputs": [],
   "source": [
    "#plots\n",
    "import matplotlib\n",
    "from mpl_toolkits.axes_grid1 import make_axes_locatable\n",
    "matplotlib.rcParams.update({'font.size': 14})\n",
    "mini, maxi = 0, eps  # or use different method to determine the minimum and maximum to use\n",
    "norm = plt.Normalize(mini, maxi)\n",
    "\n",
    "fig, (ax) = plt.subplots(1, 1, figsize=(12, 8), tight_layout=True)\n",
    "colour = \"Blues\"\n",
    "#s = scores.plot(kind='scatter', x=\"x\", y=\"y\", s = 30, c = \"score\",  marker = \"x\", cmap=colour,ax=ax, label=\"Arbitrary transforms\")\n",
    "s = ax.scatter(scores[\"x\"], scores[\"y\"], s = 30, c = scores[\"score\"],  marker = \"x\", cmap=colour, label=\"Arbitrary transforms\")\n",
    "scores[scores[\"type\"]==\"handpicked\"].plot(kind='scatter', x=\"x\", y=\"y\", s = 100, c = \"score\", facecolors='none', edgecolors='b',  \n",
    "                                          cmap=colour,ax=ax,colorbar=False, label=\"Handpicked inlier transforms\")\n",
    "\n",
    "ax.scatter(x=[crowd_tr.ref_vector[0]], y=[crowd_tr.ref_vector[1]], s=150, facecolors='red', edgecolors='w', marker='o',cmap=colour, label=\"Concensus transform\")\n",
    "ax.axvline(x=0, ymin=0.25, ymax=0.75)\n",
    "ax.axhline(y=0, xmin=0.25, xmax=0.75)\n",
    "zoom = 50\n",
    "ax.set_ylim(-zoom,zoom)\n",
    "ax.set_xlim(-zoom,zoom)\n",
    "\n",
    "#general treatment\n",
    "ax.set_xticklabels([])\n",
    "ax.set_yticklabels([])\n",
    "\n",
    "divider = make_axes_locatable(ax)\n",
    "cax = divider.append_axes(\"right\", size=\"5%\", pad=0.05)\n",
    "\n",
    "cb = plt.colorbar(s,cax)\n",
    "#cb.set_label('Score', rotation=270)\n",
    "cb.ax.tick_params(labelsize=12)\n",
    "\n",
    "ax.legend()\n",
    "#animate this guy for supps - can we see a pattern of red movements - make sure to fix the scale!\n",
    "#-different shapes for types including \"selected\""
   ]
  },
  {
   "cell_type": "code",
   "execution_count": 9,
   "metadata": {},
   "outputs": [
    {
     "data": {
      "text/html": [
       "<div>\n",
       "<style>\n",
       "    .dataframe thead tr:only-child th {\n",
       "        text-align: right;\n",
       "    }\n",
       "\n",
       "    .dataframe thead th {\n",
       "        text-align: left;\n",
       "    }\n",
       "\n",
       "    .dataframe tbody tr th {\n",
       "        vertical-align: top;\n",
       "    }\n",
       "</style>\n",
       "<table border=\"1\" class=\"dataframe\">\n",
       "  <thead>\n",
       "    <tr style=\"text-align: right;\">\n",
       "      <th></th>\n",
       "      <th>angle</th>\n",
       "    </tr>\n",
       "    <tr>\n",
       "      <th>key</th>\n",
       "      <th></th>\n",
       "    </tr>\n",
       "  </thead>\n",
       "  <tbody>\n",
       "    <tr>\n",
       "      <th>0</th>\n",
       "      <td>-0.000000</td>\n",
       "    </tr>\n",
       "    <tr>\n",
       "      <th>3</th>\n",
       "      <td>36.699225</td>\n",
       "    </tr>\n",
       "  </tbody>\n",
       "</table>\n",
       "</div>"
      ],
      "text/plain": [
       "         angle\n",
       "key           \n",
       "0    -0.000000\n",
       "3    36.699225"
      ]
     },
     "execution_count": 9,
     "metadata": {},
     "output_type": "execute_result"
    },
    {
     "data": {
      "image/png": "[encoded data removed]",
      "text/plain": [
       "<matplotlib.figure.Figure at 0x26e6bde00f0>"
      ]
     },
     "metadata": {},
     "output_type": "display_data"
    }
   ],
   "source": [
    "entry = result.stats.iloc[0]\n",
    "angles = pd.DataFrame(entry[\"marriage_angles\"]).set_index(\"key\").dropna()#[0:5]\n",
    "plots.plot_disp_angles(entry[\"best_tr_angle\"], angles.values, angles.index)\n",
    "angles"
   ]
  },
  {
   "cell_type": "code",
   "execution_count": null,
   "metadata": {},
   "outputs": [],
   "source": [
    "#show the changing angles\n",
    "import matplotlib.pyplot as plt\n",
    "import matplotlib.animation\n",
    "import numpy as np\n",
    "from IPython.display import HTML\n",
    "fig,ax = plt.subplots(1,1,figsize=(10,10))\n",
    "def update(t):\n",
    "    entry = result.stats.iloc[t]\n",
    "    angles = pd.DataFrame(entry[\"marriage_angles\"]).set_index(\"key\").dropna()#[0:5]\n",
    "    ax.clear()\n",
    "    plot_disp_angles(entry[\"best_tr_angle\"], angles.values, angles.index,ax=ax)\n",
    "    ax.set_title(\"Frame\"+str(t)) \n",
    "ani = matplotlib.animation.FuncAnimation(fig, update, frames=len(result.stats))\n",
    "ok = HTML(ani.to_html5_video())\n",
    "#ani.save('./samples/angles.mp4', fps=1)"
   ]
  },
  {
   "cell_type": "markdown",
   "metadata": {},
   "source": [
    "# Pipelines\n",
    "The run method can take a collection of \"pipe\" functions to build more flexible pipelines. Image processing can be a nuisance and this architecture is supposed to help.\n",
    "\n",
    "The idea is that the \"pipe\" function signature is consitently "
   ]
  },
  {
   "cell_type": "code",
   "execution_count": null,
   "metadata": {
    "collapsed": true
   },
   "outputs": [],
   "source": [
    "def pipe(image, context, properties):\n",
    "    #do something to the image\n",
    "    return image"
   ]
  },
  {
   "cell_type": "markdown",
   "metadata": {},
   "source": [
    "If every pipeline function has this sig, they can all be unit tested and chained together by the context manager. They should not all trip over each other re-computing things but share resources.\n",
    "\n",
    "The context stores global image properties that can be determined up front. See inside context where the analysis.set_frame_statistics is called. \n",
    "\n",
    "This could be extended to add more frame metrics that are \"read-only\" with respect to the frame. The empty pipeline is passed in the example below and this will simply read frames, analyse frames and save them to the output dir without any processing or modification"
   ]
  },
  {
   "cell_type": "code",
   "execution_count": null,
   "metadata": {
    "collapsed": true
   },
   "outputs": [],
   "source": [
    "#the empty pipeline simply analyses images\n",
    "c.run([])"
   ]
  },
  {
   "cell_type": "markdown",
   "metadata": {},
   "source": [
    "Custom pipelines can transform images from one state to another. If no argument is passed to the run method, the default pipeline tries to build the point cloud from the data and track individuals"
   ]
  },
  {
   "cell_type": "code",
   "execution_count": null,
   "metadata": {
    "collapsed": true
   },
   "outputs": [],
   "source": []
  }
 ],
 "metadata": {
  "kernelspec": {
   "display_name": "Python 3",
   "language": "python",
   "name": "python3"
  },
  "language_info": {
   "codemirror_mode": {
    "name": "ipython",
    "version": 3
   },
   "file_extension": ".py",
   "mimetype": "text/x-python",
   "name": "python",
   "nbconvert_exporter": "python",
   "pygments_lexer": "ipython3",
   "version": "3.6.3"
  }
 },
 "nbformat": 4,
 "nbformat_minor": 2
}
