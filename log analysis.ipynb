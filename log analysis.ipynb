{
 "cells": [
  {
   "cell_type": "code",
   "execution_count": 7,
   "metadata": {},
   "outputs": [
    {
     "data": {
      "text/html": [
       "<div>\n",
       "<style>\n",
       "    .dataframe thead tr:only-child th {\n",
       "        text-align: right;\n",
       "    }\n",
       "\n",
       "    .dataframe thead th {\n",
       "        text-align: left;\n",
       "    }\n",
       "\n",
       "    .dataframe tbody tr th {\n",
       "        vertical-align: top;\n",
       "    }\n",
       "</style>\n",
       "<table border=\"1\" class=\"dataframe\">\n",
       "  <thead>\n",
       "    <tr style=\"text-align: right;\">\n",
       "      <th></th>\n",
       "      <th>2dHisto_postnorm</th>\n",
       "      <th>2dHisto_prenorm</th>\n",
       "      <th>bbox_area</th>\n",
       "      <th>is_degenerate</th>\n",
       "      <th>noise</th>\n",
       "      <th>percentiles_509599</th>\n",
       "      <th>pseudo_ent</th>\n",
       "    </tr>\n",
       "  </thead>\n",
       "  <tbody>\n",
       "    <tr>\n",
       "      <th>0</th>\n",
       "      <td>[0.392, 0.576, 1.0]</td>\n",
       "      <td>[1.631, 2.396, 4.162]</td>\n",
       "      <td>102289.0</td>\n",
       "      <td>NaN</td>\n",
       "      <td>0.022136</td>\n",
       "      <td>[0.024, 0.073, 0.108]</td>\n",
       "      <td>0.424</td>\n",
       "    </tr>\n",
       "    <tr>\n",
       "      <th>1</th>\n",
       "      <td>[0.398, 0.576, 1.0]</td>\n",
       "      <td>[1.44, 2.084, 3.619]</td>\n",
       "      <td>103086.0</td>\n",
       "      <td>NaN</td>\n",
       "      <td>0.019551</td>\n",
       "      <td>[0.022, 0.065, 0.093]</td>\n",
       "      <td>0.424</td>\n",
       "    </tr>\n",
       "    <tr>\n",
       "      <th>2</th>\n",
       "      <td>[0.409, 0.585, 1.0]</td>\n",
       "      <td>[1.602, 2.29, 3.916]</td>\n",
       "      <td>102963.0</td>\n",
       "      <td>NaN</td>\n",
       "      <td>0.021617</td>\n",
       "      <td>[0.024, 0.072, 0.102]</td>\n",
       "      <td>0.415</td>\n",
       "    </tr>\n",
       "    <tr>\n",
       "      <th>3</th>\n",
       "      <td>[0.422, 0.596, 1.0]</td>\n",
       "      <td>[1.721, 2.431, 4.08]</td>\n",
       "      <td>103386.0</td>\n",
       "      <td>NaN</td>\n",
       "      <td>0.023478</td>\n",
       "      <td>[0.026, 0.078, 0.11]</td>\n",
       "      <td>0.404</td>\n",
       "    </tr>\n",
       "    <tr>\n",
       "      <th>4</th>\n",
       "      <td>[0.444, 0.619, 1.0]</td>\n",
       "      <td>[2.113, 2.947, 4.763]</td>\n",
       "      <td>104439.0</td>\n",
       "      <td>NaN</td>\n",
       "      <td>0.028500</td>\n",
       "      <td>[0.032, 0.095, 0.132]</td>\n",
       "      <td>0.381</td>\n",
       "    </tr>\n",
       "  </tbody>\n",
       "</table>\n",
       "</div>"
      ],
      "text/plain": [
       "      2dHisto_postnorm        2dHisto_prenorm  bbox_area is_degenerate  \\\n",
       "0  [0.392, 0.576, 1.0]  [1.631, 2.396, 4.162]   102289.0           NaN   \n",
       "1  [0.398, 0.576, 1.0]   [1.44, 2.084, 3.619]   103086.0           NaN   \n",
       "2  [0.409, 0.585, 1.0]   [1.602, 2.29, 3.916]   102963.0           NaN   \n",
       "3  [0.422, 0.596, 1.0]   [1.721, 2.431, 4.08]   103386.0           NaN   \n",
       "4  [0.444, 0.619, 1.0]  [2.113, 2.947, 4.763]   104439.0           NaN   \n",
       "\n",
       "      noise     percentiles_509599  pseudo_ent  \n",
       "0  0.022136  [0.024, 0.073, 0.108]       0.424  \n",
       "1  0.019551  [0.022, 0.065, 0.093]       0.424  \n",
       "2  0.021617  [0.024, 0.072, 0.102]       0.415  \n",
       "3  0.023478   [0.026, 0.078, 0.11]       0.404  \n",
       "4  0.028500  [0.032, 0.095, 0.132]       0.381  "
      ]
     },
     "execution_count": 7,
     "metadata": {},
     "output_type": "execute_result"
    }
   ],
   "source": [
    "import pandas as pd\n",
    "#log reader\n",
    "df = pd.read_csv(\"./cached_datax/frame_statistics.csv\").drop(\"Unnamed: 0\",1)\n",
    "df.head()"
   ]
  },
  {
   "cell_type": "code",
   "execution_count": null,
   "metadata": {
    "collapsed": true
   },
   "outputs": [],
   "source": []
  }
 ],
 "metadata": {
  "kernelspec": {
   "display_name": "Python 3",
   "language": "python",
   "name": "python3"
  },
  "language_info": {
   "codemirror_mode": {
    "name": "ipython",
    "version": 3
   },
   "file_extension": ".py",
   "mimetype": "text/x-python",
   "name": "python",
   "nbconvert_exporter": "python",
   "pygments_lexer": "ipython3",
   "version": "3.6.3"
  }
 },
 "nbformat": 4,
 "nbformat_minor": 2
}
