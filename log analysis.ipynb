{
 "cells": [
  {
   "cell_type": "code",
   "execution_count": 40,
   "metadata": {},
   "outputs": [
    {
     "data": {
      "text/html": [
       "<div>\n",
       "<style>\n",
       "    .dataframe thead tr:only-child th {\n",
       "        text-align: right;\n",
       "    }\n",
       "\n",
       "    .dataframe thead th {\n",
       "        text-align: left;\n",
       "    }\n",
       "\n",
       "    .dataframe tbody tr th {\n",
       "        vertical-align: top;\n",
       "    }\n",
       "</style>\n",
       "<table border=\"1\" class=\"dataframe\">\n",
       "  <thead>\n",
       "    <tr style=\"text-align: right;\">\n",
       "      <th></th>\n",
       "      <th>time</th>\n",
       "      <th>type</th>\n",
       "      <th>message</th>\n",
       "      <th>frame</th>\n",
       "    </tr>\n",
       "  </thead>\n",
       "  <tbody>\n",
       "    <tr>\n",
       "      <th>13</th>\n",
       "      <td>2018-07-24 02:04:09</td>\n",
       "      <td>INFO</td>\n",
       "      <td>(0):&gt;running stage denoise</td>\n",
       "      <td>0</td>\n",
       "    </tr>\n",
       "    <tr>\n",
       "      <th>14</th>\n",
       "      <td>2018-07-24 02:04:09</td>\n",
       "      <td>INFO</td>\n",
       "      <td>(0):&gt;estimated noise standard deviation of 0.0...</td>\n",
       "      <td>0</td>\n",
       "    </tr>\n",
       "    <tr>\n",
       "      <th>15</th>\n",
       "      <td>2018-07-24 02:04:23</td>\n",
       "      <td>INFO</td>\n",
       "      <td>(0):&gt;running stage select_filtered_by_2d_lowba...</td>\n",
       "      <td>0</td>\n",
       "    </tr>\n",
       "    <tr>\n",
       "      <th>16</th>\n",
       "      <td>2018-07-24 02:04:23</td>\n",
       "      <td>INFO</td>\n",
       "      <td>(0):&gt;running stage smoothing</td>\n",
       "      <td>0</td>\n",
       "    </tr>\n",
       "    <tr>\n",
       "      <th>17</th>\n",
       "      <td>2018-07-24 02:04:26</td>\n",
       "      <td>INFO</td>\n",
       "      <td>(0):&gt;setting the clipped region adaptive thres...</td>\n",
       "      <td>0</td>\n",
       "    </tr>\n",
       "  </tbody>\n",
       "</table>\n",
       "</div>"
      ],
      "text/plain": [
       "                  time  type  \\\n",
       "13 2018-07-24 02:04:09  INFO   \n",
       "14 2018-07-24 02:04:09  INFO   \n",
       "15 2018-07-24 02:04:23  INFO   \n",
       "16 2018-07-24 02:04:23  INFO   \n",
       "17 2018-07-24 02:04:26  INFO   \n",
       "\n",
       "                                              message  frame  \n",
       "13                         (0):>running stage denoise      0  \n",
       "14  (0):>estimated noise standard deviation of 0.0...      0  \n",
       "15  (0):>running stage select_filtered_by_2d_lowba...      0  \n",
       "16                       (0):>running stage smoothing      0  \n",
       "17  (0):>setting the clipped region adaptive thres...      0  "
      ]
     },
     "execution_count": 40,
     "metadata": {},
     "output_type": "execute_result"
    }
   ],
   "source": [
    "import pandas as pd\n",
    "#log reader\n",
    "df = pd.read_csv(\"./cached_datax/log.txt\",sep='|',header=None)\n",
    "df.columns = [\"time\", \"type\", \"message\"]\n",
    "def parse(row):\n",
    "    s = row[\"message\"]\n",
    "    s = s.split(\":\")[0].replace(\")\",\"\").replace(\"(\",\"\")\n",
    "    if s == \"\": return None\n",
    "    return int(s)\n",
    "    \n",
    "df[\"frame\"] = df.apply(parse, axis=1)\n",
    "df = df.dropna()\n",
    "df[\"frame\"] = df[\"frame\"].astype(int)\n",
    "df[\"time\"] = pd.to_datetime(df[\"time\"])\n",
    "df.head()"
   ]
  },
  {
   "cell_type": "code",
   "execution_count": 54,
   "metadata": {},
   "outputs": [
    {
     "data": {
      "text/html": [
       "<div>\n",
       "<style>\n",
       "    .dataframe thead tr:only-child th {\n",
       "        text-align: right;\n",
       "    }\n",
       "\n",
       "    .dataframe thead th {\n",
       "        text-align: left;\n",
       "    }\n",
       "\n",
       "    .dataframe tbody tr th {\n",
       "        vertical-align: top;\n",
       "    }\n",
       "</style>\n",
       "<table border=\"1\" class=\"dataframe\">\n",
       "  <thead>\n",
       "    <tr style=\"text-align: right;\">\n",
       "      <th></th>\n",
       "      <th>time</th>\n",
       "      <th>timeto</th>\n",
       "      <th>duration</th>\n",
       "    </tr>\n",
       "    <tr>\n",
       "      <th>frame</th>\n",
       "      <th></th>\n",
       "      <th></th>\n",
       "      <th></th>\n",
       "    </tr>\n",
       "  </thead>\n",
       "  <tbody>\n",
       "    <tr>\n",
       "      <th>0</th>\n",
       "      <td>2018-07-24 02:04:09</td>\n",
       "      <td>2018-07-24 02:04:31</td>\n",
       "      <td>22.0</td>\n",
       "    </tr>\n",
       "    <tr>\n",
       "      <th>1</th>\n",
       "      <td>2018-07-24 02:04:41</td>\n",
       "      <td>2018-07-24 02:05:02</td>\n",
       "      <td>21.0</td>\n",
       "    </tr>\n",
       "    <tr>\n",
       "      <th>2</th>\n",
       "      <td>2018-07-24 02:05:13</td>\n",
       "      <td>2018-07-24 02:05:34</td>\n",
       "      <td>21.0</td>\n",
       "    </tr>\n",
       "    <tr>\n",
       "      <th>3</th>\n",
       "      <td>2018-07-24 02:05:44</td>\n",
       "      <td>2018-07-24 02:06:05</td>\n",
       "      <td>21.0</td>\n",
       "    </tr>\n",
       "    <tr>\n",
       "      <th>4</th>\n",
       "      <td>2018-07-24 02:06:16</td>\n",
       "      <td>2018-07-24 02:06:37</td>\n",
       "      <td>21.0</td>\n",
       "    </tr>\n",
       "  </tbody>\n",
       "</table>\n",
       "</div>"
      ],
      "text/plain": [
       "                     time              timeto  duration\n",
       "frame                                                  \n",
       "0     2018-07-24 02:04:09 2018-07-24 02:04:31      22.0\n",
       "1     2018-07-24 02:04:41 2018-07-24 02:05:02      21.0\n",
       "2     2018-07-24 02:05:13 2018-07-24 02:05:34      21.0\n",
       "3     2018-07-24 02:05:44 2018-07-24 02:06:05      21.0\n",
       "4     2018-07-24 02:06:16 2018-07-24 02:06:37      21.0"
      ]
     },
     "execution_count": 54,
     "metadata": {},
     "output_type": "execute_result"
    }
   ],
   "source": [
    "import numpy as np\n",
    "proc_time =df.groupby(\"frame\").max().join(df.groupby(\"frame\").min(), lsuffix=\"to\")[[\"time\", \"timeto\"]] \n",
    "proc_time[\"duration\"] = (proc_time[\"timeto\"] - proc_time[\"time\"])/np.timedelta64(1, 's')\n",
    "proc_time.head()"
   ]
  },
  {
   "cell_type": "code",
   "execution_count": 57,
   "metadata": {},
   "outputs": [
    {
     "data": {
      "text/plain": [
       "49.561097256857856"
      ]
     },
     "execution_count": 57,
     "metadata": {},
     "output_type": "execute_result"
    }
   ],
   "source": [
    "%matplotlib inline\n",
    "proc_time.duration.mean()"
   ]
  },
  {
   "cell_type": "code",
   "execution_count": null,
   "metadata": {
    "collapsed": true
   },
   "outputs": [],
   "source": []
  }
 ],
 "metadata": {
  "kernelspec": {
   "display_name": "Python 3",
   "language": "python",
   "name": "python3"
  },
  "language_info": {
   "codemirror_mode": {
    "name": "ipython",
    "version": 3
   },
   "file_extension": ".py",
   "mimetype": "text/x-python",
   "name": "python",
   "nbconvert_exporter": "python",
   "pygments_lexer": "ipython3",
   "version": "3.6.3"
  }
 },
 "nbformat": 4,
 "nbformat_minor": 2
}
