{
 "cells": [
  {
   "cell_type": "code",
   "execution_count": null,
   "metadata": {
    "collapsed": true
   },
   "outputs": [],
   "source": [
    "from matplotlib import pyplot as plt\n",
    "from matplotlib.backends.backend_pdf import PdfPages\n",
    "import matplotlib\n",
    "import pandas as pd\n",
    "import numpy as np\n",
    "%matplotlib inline\n",
    "import lightroot\n",
    "from lightroot.detection import preprocessing\n",
    "from lightroot.context import context\n",
    "from lightroot.tracking import tpctree\n",
    "c = context.folder_context(\"C:/Users/mrsir/Box Sync/CYCB-GFP/cut/April 4 (cut run 192)\")"
   ]
  },
  {
   "cell_type": "markdown",
   "metadata": {},
   "source": [
    "# Plot the point distribution over time\n",
    "\n",
    "Colour time and use frame detecitons for size - this helps to visually cluster same-objects while also singling out small single frame detections\n",
    "An ellipse shows the region where we would be highly confident the detections correspond to real cells\n",
    "A helper function should be use to filter the underlying points based on this - todo"
   ]
  },
  {
   "cell_type": "code",
   "execution_count": null,
   "metadata": {
    "collapsed": true
   },
   "outputs": [],
   "source": [
    "stats= pd.read_csv(\"./cached_datax/data.csv.stats\").drop(\"Unnamed: 0\",1)\n",
    "import pandas as pd\n",
    "import numpy as np\n",
    "from numpy import nan\n",
    "\n",
    "def expand_angles(data):\n",
    "    all_data = []\n",
    "    for k,r in data[[\"best_tr_angle\", \"marriage_angles\", \"data_t_index\"]].set_index(\"data_t_index\").dropna().iterrows():\n",
    "        angles = pd.DataFrame(eval(r[\"marriage_angles\"]))\n",
    "        angles[\"t\"] = k\n",
    "        angles[\"tr\"] = r[\"best_tr_angle\"]\n",
    "        angles[\"_diff_\"] = np.abs(angles[\"angle\"]-angles[\"tr\"]) \n",
    "        for c in [\"angle\",\"tr\"]: angles[c] = np.mod(np.mod((angles[c] + 360),360),180)\n",
    "        angles[\"diff\"] = np.abs(angles[\"angle\"]-angles[\"tr\"])                      \n",
    "        all_data.append(angles)\n",
    "    return pd.concat(all_data).round(2)\n",
    "\n",
    "angles = expand_angles(stats)\n",
    "#np.mod(5,2)"
   ]
  },
  {
   "cell_type": "code",
   "execution_count": null,
   "metadata": {
    "collapsed": true
   },
   "outputs": [],
   "source": [
    "df=pd.read_csv(\"./cached_datax/data.csv.temp\").drop(\"Unnamed: 0\",1)\n",
    "df = pd.merge(df,angles,on=[\"t\",\"key\"],how=\"left\")\n",
    "df[\"angle_diff\"] = df[\"diff\"] .fillna(0)\n",
    "df[\"epsilon1\"] = df[\"epsilon1\"].fillna(0.1).round(1) * 10\n",
    "df = df.set_index(\"key\").join(df.groupby(\"key\").count()[\"t\"],rsuffix=\"detections\")\n",
    "df[\"is_single_frame\"] = 0\n",
    "df[\"size\"] = 40\n",
    "df.loc[df.tdetections<=1,\"is_single_frame\"] = 1\n",
    "df.loc[df.tdetections<=1,\"size\"] = 10\n",
    "df.head()"
   ]
  },
  {
   "cell_type": "code",
   "execution_count": null,
   "metadata": {
    "collapsed": true
   },
   "outputs": [],
   "source": [
    "%matplotlib inline\n",
    "import pandas as pd\n",
    "from matplotlib.patches import Ellipse\n",
    "from mpl_toolkits.axes_grid1 import make_axes_locatable\n",
    "#df=df[df.tdetections>1]\n",
    "fig, (ax1,ax2) = plt.subplots(1, 2, figsize=(20, 8), tight_layout=True)\n",
    "colors = [\"gist_earth\", \"spectral\"] \n",
    "cols = [\"t\", \"angle_diff\"]\n",
    "names = [\"(a) Time-lapse showing time in colour bar\", \"(b) Time-lapse showing angle differences in colour bar\"]\n",
    "for i, ax in enumerate([ax1,ax2]):\n",
    "    s=ax.scatter(df.x, df.y, s=df[\"tdetections\"]*7, c=df[cols[i]], cmap=colors[i])\n",
    "    e= Ellipse((680, 550), 900, 450,linewidth=2, linestyle=\":\", fill=False,)\n",
    "    ax.add_artist(e)\n",
    "    ax.set_ylim(1000,0)\n",
    "    ax.set_xticklabels([])\n",
    "    ax.set_yticklabels([])\n",
    "    ax.set_xlabel(names[i],fontsize=14)\n",
    "    cb = plt.colorbar(s,make_axes_locatable(ax).append_axes(\"right\", size=\"5%\", pad=0.05))\n",
    "fig.savefig(\"./samples/timelapse.pdf\",bbox_inches='tight')"
   ]
  },
  {
   "cell_type": "code",
   "execution_count": null,
   "metadata": {
    "collapsed": true
   },
   "outputs": [],
   "source": []
  },
  {
   "cell_type": "code",
   "execution_count": null,
   "metadata": {
    "collapsed": true
   },
   "outputs": [],
   "source": [
    "angles = pd.DataFrame(entry[\"marriage_angles\"]).set_index(\"key\").dropna()#[0:5]\n",
    "plots.plot_disp_angles(entry[\"best_tr_angle\"], angles.values, angles.index)"
   ]
  },
  {
   "cell_type": "markdown",
   "metadata": {},
   "source": [
    "# Sample Frames"
   ]
  },
  {
   "cell_type": "code",
   "execution_count": null,
   "metadata": {
    "collapsed": true
   },
   "outputs": [],
   "source": [
    "ims = [c.load_frame(i) for i in [0,45,81,99]]\n",
    "F = lightroot.plots.plot_quad(ims)     \n",
    "F.axes[0].annotate('root tip', color='white',xy=(120, 120), xytext=(140, 140),xycoords='axes pixels', fontsize=16,\n",
    "            arrowprops=dict(facecolor='white', shrink=0.05))    \n",
    "F.axes[0].annotate('debris', color='white',xy=(240, 145), xytext=(200, 100),xycoords='axes pixels', fontsize=16,\n",
    "            arrowprops=dict(facecolor='white', shrink=0.05))    \n",
    "F.savefig(\"./samples/sample_frames.pdf\",bbox_inches='tight')"
   ]
  },
  {
   "cell_type": "markdown",
   "metadata": {},
   "source": [
    "# ROI Stages"
   ]
  },
  {
   "cell_type": "code",
   "execution_count": null,
   "metadata": {
    "collapsed": true
   },
   "outputs": [],
   "source": [
    "import matplotlib.patches as patches\n",
    "def show_stages(c, i):    \n",
    "    f0=c.load_frame(i)\n",
    "    f1=preprocessing.denoise(f0,c)\n",
    "    preprocessing.select_filtered_by_2d_lowband_largest_component(f1,c)#record the bounding box\n",
    "    f2 = preprocessing.lowband_histogram_thresholding(f1.sum(0),c)\n",
    "    f3 = preprocessing.smoothing(f2,c,props={\"sigma\":12})\n",
    "\n",
    "    def cb (I,ax):\n",
    "        inlay=0\n",
    "        rect = c.bbox\n",
    "        ax.imshow(I)\n",
    "        ax.add_patch( patches.Rectangle(  list(reversed(rect[0:2])),   rect[3]-rect[1]-inlay,   rect[2]-rect[0]-inlay,  fill=False, edgecolor='white' ))\n",
    "\n",
    "    return lightroot.plots.plot_quad([f1,f2,f3,f1], pals=[\"gist_earth\", \"Blues\", \"Blues\", \"gist_earth\"], callbacks={3:cb}) \n",
    "\n",
    "res = show_stages(c,45)\n",
    "F.savefig(\"./samples/roi_stages.pdf\",bbox_inches='tight')"
   ]
  },
  {
   "cell_type": "markdown",
   "metadata": {},
   "source": [
    "## load sample data..."
   ]
  },
  {
   "cell_type": "code",
   "execution_count": null,
   "metadata": {
    "collapsed": true
   },
   "outputs": [],
   "source": [
    "frame_stats = pd.read_csv(\"./samples/test_stats390.csv\")\n",
    "frame_stats.head()\n",
    "test_data = pd.read_csv(\"./samples/test_points.csv\").drop(\"Unnamed: 0\",1)"
   ]
  },
  {
   "cell_type": "markdown",
   "metadata": {},
   "source": [
    "# Constellation sampling"
   ]
  },
  {
   "cell_type": "code",
   "execution_count": null,
   "metadata": {
    "collapsed": true
   },
   "outputs": [],
   "source": [
    "d1 = test_data[test_data.t==9].reset_index().drop(\"index\",1)\n",
    "d2 = test_data[test_data.t==10].reset_index().drop(\"index\",1)\n",
    "t = tpctree(d1)\n",
    "t.update(test_data[test_data.t==10])\n",
    "p = {\"c\":\"b\", \"canvasx\": [400,800,800,400],\"canvasy\": [700,700,350,350] }\n",
    "cn = list(tpctree.constellation_sampler(d1,N=6))\n",
    "_call=lightroot.utils.render_constellation_callback(cn)\n",
    "cn = list(tpctree.constellation_sampler(d2,N=50))\n",
    "_call=lightroot.utils.render_constellation_callback(cn)\n",
    "ax= c._iom.plot(None, blob_overlay=d2, props=p,callback=_call)\n",
    "plt.savefig(\"./samples/constellation_sample.pdf\",bbox_inches='tight')"
   ]
  },
  {
   "cell_type": "markdown",
   "metadata": {},
   "source": [
    "# Transform eval"
   ]
  },
  {
   "cell_type": "code",
   "execution_count": null,
   "metadata": {
    "collapsed": true
   },
   "outputs": [],
   "source": [
    "c._iom.plot(None, blob_overlay=d1,  props=p,callback=tpctree.show_projection_callback(d2, tr=t._last_transform))\n",
    "plt.savefig(\"./samples/tr_eval.pdf\",bbox_inches='tight')"
   ]
  },
  {
   "cell_type": "markdown",
   "metadata": {},
   "source": [
    "# Life Matrix"
   ]
  },
  {
   "cell_type": "code",
   "execution_count": null,
   "metadata": {
    "collapsed": true
   },
   "outputs": [],
   "source": [
    "lm = tpctree.make_life_matrix(pd.read_csv(\"./samples/test_tree_blobs.csv\")).astype(int)\n",
    "restricted = tpctree.make_life_matrix(pd.read_csv(\"./samples/test_tree_blobs.csv\"),True).astype(int)\n",
    "#_lm = lm# if we want to show all in time series plots\n",
    "_lm = restricted\n",
    "bandd = _lm.diff(1,axis=1,).fillna(0) #* lifetime_matrix\n",
    "births = bandd[bandd==1].fillna(0)\n",
    "deaths = np.abs(bandd[bandd==-1]).fillna(0)\n",
    "ageMat = _lm.cumsum(axis=1) * _lm\n",
    "lm.head()"
   ]
  },
  {
   "cell_type": "code",
   "execution_count": null,
   "metadata": {
    "collapsed": true
   },
   "outputs": [],
   "source": [
    "import seaborn as sns\n",
    "fig = plt.figure(figsize=(20,10))\n",
    "sns.heatmap(restricted.astype(int),cmap=\"Blues\",cbar=False,yticklabels=False, xticklabels=False)\n",
    "plt.ylabel(\"objects\",fontsize=14)\n",
    "plt.xlabel(\"time\",fontsize=14)\n",
    "#pdf = PdfPages(\"./samples/life_matrix.pdf\")\n",
    "#pdf.savefig(fig)\n",
    "#pdf.close()\n",
    "plt.savefig(\"./samples/life_matrix.png\",bbox_inches='tight') #save as pdf takes some time - can save as png instead"
   ]
  },
  {
   "cell_type": "markdown",
   "metadata": {},
   "source": [
    "# Time Series"
   ]
  },
  {
   "cell_type": "code",
   "execution_count": null,
   "metadata": {
    "collapsed": true
   },
   "outputs": [],
   "source": [
    "time = restricted.sum(axis=0).reset_index().drop(\"index\",1)\n",
    "time.columns = [\"alive\"]\n",
    "time[\"births\"] = births.sum()\n",
    "time[\"deaths\"] = deaths.sum()\n",
    "time[\"observed_by_t\"] = births.sum().cumsum().astype(int)\n",
    "time[\"mean_age_at_t\"]  = ageMat.replace(0, np.nan).mean(skipna=True).round(2).fillna(0)\n",
    "time.index.name = 't'\n",
    "time = time.reset_index()\n",
    "\n",
    "temp = time\n",
    "\n",
    "matplotlib.rcParams.update({'font.size': 12})\n",
    "fig, (ax1, ax2) = plt.subplots(2,  figsize=(10,6), sharex=True)\n",
    "\n",
    "ax1.plot(temp.index, temp.alive, '-')\n",
    "\n",
    "ax1.set( ylabel='Number of objects')\n",
    "ax1.yaxis.label.set_size(16)\n",
    "ax1.yaxis.grid()\n",
    "ax1.minorticks_on()\n",
    "ax1.grid(b=True, which='minor', color='grey', linestyle='-', alpha=0.2)\n",
    "\n",
    "ax2.plot(temp.index, temp.mean_age_at_t, '-')\n",
    "ax2.set(ylabel='Mean age',)\n",
    "ax2.yaxis.label.set_size(16)\n",
    "ax2.xaxis.label.set_size(16)\n",
    "ax2.yaxis.grid()\n",
    "\n",
    "plt.subplots_adjust(hspace=0.1)\n",
    "plt.xlim(0,200)\n",
    "ax2.minorticks_on()\n",
    "ax2.grid(b=True, which='minor', color='grey', linestyle='-', alpha=0.2)\n",
    "fig.savefig(\"./samples/life_time_series.pdf\",bbox_inches='tight')"
   ]
  },
  {
   "cell_type": "code",
   "execution_count": null,
   "metadata": {
    "collapsed": true
   },
   "outputs": [],
   "source": [
    "plt.figure(figsize=(10,5))\n",
    "ah = pd.DataFrame(ageMat.max(axis=1),columns=[\"age_hist\"])\n",
    "ah['age_hist'].plot.hist(bins=40,ylim=(0,250)) "
   ]
  },
  {
   "cell_type": "code",
   "execution_count": null,
   "metadata": {
    "collapsed": true
   },
   "outputs": [],
   "source": [
    "# ghj = frame_stats[[\"bbox_area\"]][0:100]\n",
    "# ghj[\"bounding box area\"] = ghj[\"bbox_area\"]/ghj[\"bbox_area\"].max()\n",
    "# ghj[\"1-frame detections\"] = (lm.sum()-restricted.sum())/lm.sum()\n",
    "# ax  =ghj[[\"bounding box area\",\"1-frame detections\"]].fillna(0).plot(figsize=(20,3),kind='area', stacked=False, alpha=0.3)\n",
    "# #ax.figure.savefig(\"f8.pdf\",bbox_inches='tight')"
   ]
  },
  {
   "cell_type": "markdown",
   "metadata": {},
   "source": [
    "# Epsilon values"
   ]
  },
  {
   "cell_type": "code",
   "execution_count": null,
   "metadata": {
    "collapsed": true
   },
   "outputs": [],
   "source": [
    "# lms = []\n",
    "eps = [10,15,20,25,30,35,40,50,70]\n",
    "# for epsilon in eps:\n",
    "#     print(\"epsilon\", epsilon)\n",
    "#     data = pd.read_csv(\"./samples/test_tree_blobs.csv\")\n",
    "#     data = data[[\"t\",\"x\",\"y\", \"z\"]]\n",
    "#     tree=None\n",
    "#     for g,d in data.groupby(\"t\"):\n",
    "#         print(\".\", end=\"\")\n",
    "#         if g %10 ==0:print()\n",
    "#         if tree == None: tree = tpctree(d,options={\"epsilon\":epsilon})\n",
    "#         else: tree.update(d) \n",
    "#         if g == 100:break\n",
    "#     lms.append(tpctree.make_life_matrix(tree.data).astype(int))\n",
    "# ghj = frame_stats[[\"bbox_area\"]][0:100]\n",
    "# ghj[\"bounding box area\"] = ghj[\"bbox_area\"]/ghj[\"bbox_area\"].max()\n",
    "# for i,_lm in enumerate(lms):\n",
    "#     ghj[\"1-frame detections @ \"+str(eps[i])] = (_lm.sum()-tpctree.get_restricted(_lm).sum())/_lm.sum()\n",
    "# ghj.to_csv(\"./samples/epsilon_sfd_checks.csv\")"
   ]
  },
  {
   "cell_type": "code",
   "execution_count": null,
   "metadata": {
    "collapsed": true
   },
   "outputs": [],
   "source": [
    "ghj = pd.read_csv(\"./samples/epsilon_sfd_checks.csv\").drop(\"Unnamed: 0\",1)\n",
    "matplotlib.rc('text', usetex=True, fontsize=18)\n",
    "totals = ghj.sum().reset_index()[2:].set_index(np.array(eps))\n",
    "totals.columns = [\"label\", \"single-frame detections for $\\epsilon$ values\"]\n",
    "totals.index.name = \"epsilon\"\n",
    "ax = totals[[\"single-frame detections for $\\epsilon$ values\"]].plot(style='--',figsize=(15,5))\n",
    "ax.axvspan(15,25, alpha=0.1, color='blue')\n",
    "# pdf = PdfPages(\"./samples/epsilon_sfds.pdf\")\n",
    "# pdf.savefig(ax.figure)\n",
    "# pdf.close()\n",
    "    \n",
    "ax.figure.savefig(\"./samples/epsilon_sfds.png\",bbox_inches='tight')"
   ]
  },
  {
   "cell_type": "code",
   "execution_count": null,
   "metadata": {
    "collapsed": true
   },
   "outputs": [],
   "source": [
    "# %matplotlib inline\n",
    "# from matplotlib import pyplot as plt\n",
    "# comparison = tree.data.dropna()#[tree.data.key != tree.data.key3].dropna()\n",
    "# lm = tpctree.make_life_matrix(tree.data).astype(int)\n",
    "# ageMat = lm.cumsum(axis=1) * lm\n",
    "# def age_at(t,i):return ageMat[t][i]\n",
    "# def age_at_px(row): return age_at(row[\"t\"],row[\"key\"])\n",
    "# comparison[\"age\"]=comparison.reset_index().apply(age_at_px, axis=1)\n",
    "# comparison.key2 = comparison.key2.astype(int)\n",
    "# comparison.key3 = comparison.key3.astype(int)\n",
    "\n",
    "# #forced agreement - because we just want valid devaitions\n",
    "# comparison.loc[comparison.age < 2, \"key2\"] = comparison.key\n",
    "# comparison.loc[comparison.age < 3, \"key3\"] = comparison.key\n",
    "# comparison[\"agree_a\"] = (comparison.key == comparison.key2).astype(int)\n",
    "# comparison[\"agree_b\"] = (comparison.key == comparison.key3).astype(int)\n",
    "# comparison[\"agree_c\"] = (comparison.key2 == comparison.key3).astype(int)\n",
    "# comp = comparison.groupby(\"t\").sum()[[\"agree_a\", \"agree_b\"]].join(comparison.groupby(\"t\").count()[\"agree_c\"])\n",
    "\n",
    "# comp.columns=[\"Agreement 1:2\", \"Agreement 1:3\", \"Total\"]\n",
    "# comp[\"First Differance\"] = comp[\"Total\"] - comp[\"Agreement 1:2\"]\n",
    "# comp[\"Second Differance\"] = comp[\"Total\"] - comp[\"Agreement 1:3\"]\n",
    "\n",
    "# comp = comp[0:20]\n",
    "# comp[[\"Agreement 1:2\", \"Agreement 1:3\", \"Total\"]].plot(kind=\"area\",stacked=False,alpha=1.,figsize=(15,7), colormap='Greys')\n",
    "# comp[[\"First Differance\",\"Second Differance\"]].plot(figsize=(15,7))\n",
    "\n",
    "# sfds = pd.DataFrame((lm.sum()-restricted.sum()))\n",
    "# sfds.columns=[\"sfds\"]\n",
    "\n",
    "# plt.savefig(\"f10.pdf\",bbox_inches='tight')"
   ]
  }
 ],
 "metadata": {
  "kernelspec": {
   "display_name": "Python 3",
   "language": "python",
   "name": "python3"
  },
  "language_info": {
   "codemirror_mode": {
    "name": "ipython",
    "version": 3
   },
   "file_extension": ".py",
   "mimetype": "text/x-python",
   "name": "python",
   "nbconvert_exporter": "python",
   "pygments_lexer": "ipython3",
   "version": "3.6.3"
  }
 },
 "nbformat": 4,
 "nbformat_minor": 2
}
